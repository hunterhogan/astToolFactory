{
 "cells": [
  {
   "cell_type": "markdown",
   "id": "c2470506",
   "metadata": {},
   "source": [
    "# Access and edit the dataframe\n",
    "Until Data Wrangler is working normally, use this notebook to do manual edits and investigate the dataframe."
   ]
  },
  {
   "cell_type": "code",
   "execution_count": 1,
   "id": "eeddac8d",
   "metadata": {},
   "outputs": [],
   "source": [
    "from astToolFactory.datacenter import getDataframe\n",
    "\n",
    "# Use `df` here because it's easier than arguing with the hardcoded identifier in Data Wrangler \n",
    "df = getDataframe(True, None)"
   ]
  }
 ],
 "metadata": {
  "kernelspec": {
   "display_name": ".venv (3.13.3)",
   "language": "python",
   "name": "python3"
  },
  "language_info": {
   "codemirror_mode": {
    "name": "ipython",
    "version": 3
   },
   "file_extension": ".py",
   "mimetype": "text/x-python",
   "name": "python",
   "nbconvert_exporter": "python",
   "pygments_lexer": "ipython3",
   "version": "3.13.3"
  }
 },
 "nbformat": 4,
 "nbformat_minor": 5
}
