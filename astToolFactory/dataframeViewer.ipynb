{
 "cells": [
  {
   "cell_type": "markdown",
   "id": "366be730",
   "metadata": {},
   "source": [
    "# load dataframe"
   ]
  },
  {
   "cell_type": "code",
   "execution_count": 1,
   "id": "6ce12245",
   "metadata": {},
   "outputs": [],
   "source": [
    "from astToolFactory.datacenter import pathFilenameDataframeAST\n",
    "import pandas\n",
    "\n",
    "dataframe = pandas.read_pickle(pathFilenameDataframeAST)"
   ]
  },
  {
   "cell_type": "markdown",
   "id": "8a011323",
   "metadata": {},
   "source": [
    "# save dataframe"
   ]
  },
  {
   "cell_type": "code",
   "execution_count": null,
   "id": "88fd24c2",
   "metadata": {},
   "outputs": [],
   "source": [
    "# dataframe.to_pickle(pathFilenameDataframeAST)"
   ]
  },
  {
   "cell_type": "markdown",
   "id": "15818da8",
   "metadata": {},
   "source": [
    "# parse and dump"
   ]
  },
  {
   "cell_type": "code",
   "execution_count": null,
   "id": "8aa0993e",
   "metadata": {},
   "outputs": [],
   "source": [
    "# from astToolkit import dump\n",
    "# import ast\n",
    "\n",
    "# source='''\n",
    "# '''\n",
    "\n",
    "# print(dump(ast.parse(source, type_comments=True), indent=None, show_empty=False))"
   ]
  },
  {
   "cell_type": "markdown",
   "id": "1bffa2d3",
   "metadata": {},
   "source": [
    "# eval and unparse"
   ]
  },
  {
   "cell_type": "code",
   "execution_count": null,
   "id": "6cefb0c9",
   "metadata": {},
   "outputs": [],
   "source": [
    "# from astToolkit import Make\n",
    "# import ast\n",
    "# source='''\n",
    "# '''\n",
    "\n",
    "# print(ast.unparse(ast.Module([eval(source)])))"
   ]
  }
 ],
 "metadata": {
  "kernelspec": {
   "display_name": ".venv",
   "language": "python",
   "name": "python3"
  },
  "language_info": {
   "codemirror_mode": {
    "name": "ipython",
    "version": 3
   },
   "file_extension": ".py",
   "mimetype": "text/x-python",
   "name": "python",
   "nbconvert_exporter": "python",
   "pygments_lexer": "ipython3",
   "version": "3.13.3"
  }
 },
 "nbformat": 4,
 "nbformat_minor": 5
}
