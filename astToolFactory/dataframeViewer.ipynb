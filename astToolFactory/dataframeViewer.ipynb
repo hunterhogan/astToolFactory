{
 "cells": [
  {
   "cell_type": "markdown",
   "id": "366be730",
   "metadata": {},
   "source": [
    "# load dataframe"
   ]
  },
  {
   "cell_type": "code",
   "execution_count": null,
   "id": "6ce12245",
   "metadata": {},
   "outputs": [],
   "source": [
    "from astToolFactory import settingsManufacturing\n",
    "import pandas\n",
    "\n",
    "dataframe: pandas.DataFrame = pandas.read_pickle(settingsManufacturing.pathFilenameDataframeAST)"
   ]
  },
  {
   "cell_type": "markdown",
   "id": "8a011323",
   "metadata": {},
   "source": [
    "# save dataframe"
   ]
  },
  {
   "cell_type": "code",
   "execution_count": null,
   "id": "88fd24c2",
   "metadata": {},
   "outputs": [],
   "source": [
    "# dataframe.to_pickle(settingsManufacturing.pathFilenameDataframeAST)"
   ]
  },
  {
   "cell_type": "markdown",
   "id": "0e41fec5",
   "metadata": {},
   "source": [
    "# did the dataframe change?"
   ]
  },
  {
   "cell_type": "code",
   "execution_count": null,
   "id": "d3119af4",
   "metadata": {},
   "outputs": [],
   "source": [
    "# import numpy\n",
    "# stem: str = settingsManufacturing.pathFilenameDataframeAST.stem + ' copy'\n",
    "# pathFilenameCopy = settingsManufacturing.pathFilenameDataframeAST.with_stem(stem)\n",
    "# dataframeCopy: pandas.DataFrame = pandas.read_pickle(pathFilenameCopy)\n",
    "# print(numpy.array_equal(dataframe, dataframeCopy))"
   ]
  },
  {
   "cell_type": "markdown",
   "id": "6d7e2c1a",
   "metadata": {},
   "source": [
    "# load edited dataframe"
   ]
  },
  {
   "cell_type": "code",
   "execution_count": null,
   "id": "c4856861",
   "metadata": {},
   "outputs": [],
   "source": [
    "# from astToolFactory import settingsManufacturing\n",
    "# from astToolFactory.datacenter import _sortCaseInsensitive, getDataframe  # pyright: ignore[reportPrivateUsage]\n",
    "# from astToolkit import dump, Make\n",
    "# import numpy\n",
    "# import pandas\n",
    "\n",
    "# includeDeprecated: bool = False\n",
    "# versionMinorMaximum: int | None = None\n",
    "\n",
    "# # Add function code here:"
   ]
  },
  {
   "cell_type": "markdown",
   "id": "15818da8",
   "metadata": {},
   "source": [
    "# parse and dump"
   ]
  },
  {
   "cell_type": "code",
   "execution_count": null,
   "id": "8aa0993e",
   "metadata": {},
   "outputs": [],
   "source": [
    "# from astToolkit import dump\n",
    "# import ast\n",
    "# import sys\n",
    "\n",
    "# source='''\n",
    "# '''\n",
    "\n",
    "# print(dump(ast.parse(source, type_comments=True), indent=4, show_empty=False))"
   ]
  },
  {
   "cell_type": "markdown",
   "id": "1bffa2d3",
   "metadata": {},
   "source": [
    "# eval and unparse"
   ]
  },
  {
   "cell_type": "code",
   "execution_count": null,
   "id": "6cefb0c9",
   "metadata": {},
   "outputs": [],
   "source": [
    "# from astToolkit import Make\n",
    "# import ast\n",
    "# source='''\n",
    "# '''\n",
    "\n",
    "# print(ast.unparse(ast.Module([eval(source)])))"
   ]
  }
 ],
 "metadata": {
  "kernelspec": {
   "display_name": ".venv (3.13.3)",
   "language": "python",
   "name": "python3"
  },
  "language_info": {
   "codemirror_mode": {
    "name": "ipython",
    "version": 3
   },
   "file_extension": ".py",
   "mimetype": "text/x-python",
   "name": "python",
   "nbconvert_exporter": "python",
   "pygments_lexer": "ipython3",
   "version": "3.13.4"
  }
 },
 "nbformat": 4,
 "nbformat_minor": 5
}
