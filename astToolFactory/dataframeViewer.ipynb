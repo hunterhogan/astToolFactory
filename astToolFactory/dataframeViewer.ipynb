{
 "cells": [
  {
   "cell_type": "markdown",
   "id": "366be730",
   "metadata": {},
   "source": [
    "# load dataframe"
   ]
  },
  {
   "cell_type": "code",
   "execution_count": null,
   "id": "6ce12245",
   "metadata": {},
   "outputs": [],
   "source": [
    "from astToolFactory import settingsManufacturing\n",
    "import pandas\n",
    "\n",
    "dataframe: pandas.DataFrame = pandas.read_pickle(settingsManufacturing.pathFilenameDataframeAST)"
   ]
  },
  {
   "cell_type": "code",
   "execution_count": null,
   "id": "2f48bd21",
   "metadata": {},
   "outputs": [],
   "source": [
    "# dataframe = dataframe[~((dataframe['match_args'] != ()) & (dataframe['attribute'] == \"No\"))]"
   ]
  },
  {
   "cell_type": "markdown",
   "id": "8a011323",
   "metadata": {},
   "source": [
    "# save dataframe"
   ]
  },
  {
   "cell_type": "code",
   "execution_count": null,
   "id": "88fd24c2",
   "metadata": {},
   "outputs": [],
   "source": [
    "# dataframe.to_pickle(settingsManufacturing.pathFilenameDataframeAST)"
   ]
  },
  {
   "cell_type": "markdown",
   "id": "15818da8",
   "metadata": {},
   "source": [
    "# parse and dump"
   ]
  },
  {
   "cell_type": "code",
   "execution_count": null,
   "id": "8aa0993e",
   "metadata": {},
   "outputs": [],
   "source": [
    "# from astToolkit import dump\n",
    "# import ast\n",
    "\n",
    "# source='''\n",
    "# '''\n",
    "\n",
    "# print(dump(ast.parse(source, type_comments=True), indent=4, show_empty=False, annotate_fields=True))"
   ]
  },
  {
   "cell_type": "markdown",
   "id": "1bffa2d3",
   "metadata": {},
   "source": [
    "# eval and unparse"
   ]
  },
  {
   "cell_type": "code",
   "execution_count": null,
   "id": "6cefb0c9",
   "metadata": {},
   "outputs": [],
   "source": [
    "# from astToolkit import Make\n",
    "# import ast\n",
    "\n",
    "# source='''\n",
    "# '''\n",
    "\n",
    "# print(ast.unparse(ast.Module([eval(source)])))\n",
    "\n"
   ]
  }
 ],
 "metadata": {
  "kernelspec": {
   "display_name": ".venv (3.13.5)",
   "language": "python",
   "name": "python3"
  },
  "language_info": {
   "codemirror_mode": {
    "name": "ipython",
    "version": 3
   },
   "file_extension": ".py",
   "mimetype": "text/x-python",
   "name": "python",
   "nbconvert_exporter": "python",
   "pygments_lexer": "ipython3",
   "version": "3.13.5"
  }
 },
 "nbformat": 4,
 "nbformat_minor": 5
}
