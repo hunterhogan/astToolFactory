{
 "cells": [
  {
   "cell_type": "markdown",
   "id": "366be730",
   "metadata": {},
   "source": [
    "# load dataframe"
   ]
  },
  {
   "cell_type": "code",
   "execution_count": 1,
   "id": "6ce12245",
   "metadata": {},
   "outputs": [],
   "source": [
    "from astToolFactory import settingsManufacturing\n",
    "import pandas\n",
    "\n",
    "dataframe: pandas.DataFrame = pandas.read_pickle(settingsManufacturing.pathFilenameDataframeAST)"
   ]
  },
  {
   "cell_type": "markdown",
   "id": "8a011323",
   "metadata": {},
   "source": [
    "# save dataframe"
   ]
  },
  {
   "cell_type": "code",
   "execution_count": null,
   "id": "88fd24c2",
   "metadata": {},
   "outputs": [],
   "source": [
    "# dataframe.to_pickle(settingsManufacturing.pathFilenameDataframeAST)"
   ]
  },
  {
   "cell_type": "markdown",
   "id": "0e41fec5",
   "metadata": {},
   "source": [
    "# did the dataframe change?"
   ]
  },
  {
   "cell_type": "code",
   "execution_count": null,
   "id": "d3119af4",
   "metadata": {},
   "outputs": [],
   "source": [
    "# import numpy\n",
    "\n",
    "# stem: str = settingsManufacturing.pathFilenameDataframeAST.stem + ' copy'\n",
    "# pathFilenameCopy = settingsManufacturing.pathFilenameDataframeAST.with_stem(stem)\n",
    "# dataframeCopy: pandas.DataFrame = pandas.read_pickle(pathFilenameCopy)\n",
    "# print(f\"{numpy.array_equal(dataframe, dataframeCopy) = }\")"
   ]
  },
  {
   "cell_type": "markdown",
   "id": "6d7e2c1a",
   "metadata": {},
   "source": [
    "# load edited dataframe"
   ]
  },
  {
   "cell_type": "code",
   "execution_count": 1,
   "id": "c4856861",
   "metadata": {},
   "outputs": [],
   "source": [
    "from astToolFactory import settingsManufacturing\n",
    "from astToolFactory._datacenter import _makeColumn_guardVersion, _sortCaseInsensitive, getDataframe  # pyright: ignore[reportPrivateUsage]\n",
    "from astToolkit import dump, Make\n",
    "import numpy\n",
    "import pandas\n",
    "import pandas as pd\n",
    "\n",
    "# Add function code here:\n",
    "\n",
    "listColumnsHARDCODED: list[str] = ['attribute', 'TypeAlias_hasDOTSubcategory', 'versionMinorMinimumAttribute', 'type_ast_expr', 'type', 'TypeAlias_hasDOTIdentifier', 'canBeNone',]\n",
    "listColumns: list[str] = listColumnsHARDCODED\n",
    "del listColumnsHARDCODED\n",
    "\n",
    "sortBy: list[str] = listColumns[0:3]\n",
    "caseInsensitive: list[bool] = [True, True, False]\n",
    "ascending: list[bool] = caseInsensitive.copy()\n",
    "drop_duplicates: list[str] = listColumns[0:2]\n",
    "\n",
    "index_type: int = 4\n",
    "index_type_ast_expr: int = 3\n",
    "index_versionMinorMinimum: int = 2\n",
    "\n",
    "dataframe: pandas.DataFrame = (getDataframe()\n",
    "    .query(\"attributeKind == '_field'\")\n",
    "    .pipe(_sortCaseInsensitive, sortBy, caseInsensitive, ascending)\n",
    "    [listColumns]\n",
    "    .drop_duplicates(drop_duplicates, keep='last')\n",
    "    .reset_index(drop=True)\n",
    ")\n",
    "\n",
    "dataframe.rename(columns = {\n",
    "        listColumns[index_type]: 'type',\n",
    "        listColumns[index_type_ast_expr]: 'type_ast_expr',\n",
    "        listColumns[index_versionMinorMinimum]: 'versionMinorMinimum',\n",
    "    }, inplace=True)\n",
    "\n",
    "del listColumns\n",
    "\n",
    "elementsTarget: list[str] = ['identifierTypeOfNode', 'overloadDefinition', 'canBeNone', 'attribute', 'list_ast_expr', 'guardVersion', 'versionMinorMinimum']\n",
    "\n",
    "dataframe['identifierTypeOfNode'] = dataframe['TypeAlias_hasDOTSubcategory'].where(\n",
    "    dataframe['attribute'].map(dataframe['attribute'].value_counts()) > 1\n",
    "    , dataframe['TypeAlias_hasDOTIdentifier']\n",
    ")\n",
    "dataframe['overloadDefinition'] = dataframe['attribute'].map(dataframe['attribute'].value_counts()) > 1\n",
    "dataframe['list_ast_expr'] = dataframe['type_ast_expr'].apply(lambda srsly: [srsly]) # pyright: ignore[reportUnknownLambdaType, reportUnknownArgumentType]\n",
    "\n",
    "currentColumns: list[str] = [\n",
    "    'TypeAlias_hasDOTIdentifier',\n",
    "    'identifierTypeOfNode',\n",
    "    'overloadDefinition',\n",
    "    'canBeNone',\n",
    "    'attribute',\n",
    "    'list_ast_expr',\n",
    "    'versionMinorMinimum',\n",
    "]\n",
    "dataframe = dataframe[currentColumns]\n"
   ]
  },
  {
   "cell_type": "markdown",
   "id": "15818da8",
   "metadata": {},
   "source": [
    "# parse and dump"
   ]
  },
  {
   "cell_type": "code",
   "execution_count": null,
   "id": "8aa0993e",
   "metadata": {},
   "outputs": [],
   "source": [
    "# from astToolkit import dump\n",
    "# import ast\n",
    "# import sys\n",
    "\n",
    "# source='''\n",
    "# '''\n",
    "\n",
    "# print(dump(ast.parse(source, type_comments=True), indent=4, show_empty=False))"
   ]
  },
  {
   "cell_type": "markdown",
   "id": "1bffa2d3",
   "metadata": {},
   "source": [
    "# eval and unparse"
   ]
  },
  {
   "cell_type": "code",
   "execution_count": null,
   "id": "6cefb0c9",
   "metadata": {},
   "outputs": [],
   "source": [
    "# from astToolkit import Make\n",
    "# import ast\n",
    "# source='''\n",
    "# '''\n",
    "\n",
    "# print(ast.unparse(ast.Module([eval(source)])))"
   ]
  }
 ],
 "metadata": {
  "kernelspec": {
   "display_name": ".venv (3.13.4)",
   "language": "python",
   "name": "python3"
  },
  "language_info": {
   "codemirror_mode": {
    "name": "ipython",
    "version": 3
   },
   "file_extension": ".py",
   "mimetype": "text/x-python",
   "name": "python",
   "nbconvert_exporter": "python",
   "pygments_lexer": "ipython3",
   "version": "3.13.4"
  }
 },
 "nbformat": 4,
 "nbformat_minor": 5
}
