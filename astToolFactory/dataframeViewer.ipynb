{
 "cells": [
  {
   "cell_type": "markdown",
   "id": "366be730",
   "metadata": {},
   "source": [
    "# load dataframe"
   ]
  },
  {
   "cell_type": "code",
   "execution_count": 1,
   "id": "6ce12245",
   "metadata": {},
   "outputs": [],
   "source": [
    "from astToolFactory.datacenter import pathFilenameDataframeAST\n",
    "import pandas\n",
    "\n",
    "dataframe = pandas.read_pickle(pathFilenameDataframeAST)"
   ]
  },
  {
   "cell_type": "markdown",
   "id": "8a011323",
   "metadata": {},
   "source": [
    "# save dataframe"
   ]
  },
  {
   "cell_type": "code",
   "execution_count": null,
   "id": "88fd24c2",
   "metadata": {},
   "outputs": [],
   "source": [
    "# dataframe.to_pickle(pathFilenameDataframeAST)"
   ]
  },
  {
   "cell_type": "markdown",
   "id": "15818da8",
   "metadata": {},
   "source": [
    "# parse and dump"
   ]
  },
  {
   "cell_type": "code",
   "execution_count": 1,
   "id": "8aa0993e",
   "metadata": {},
   "outputs": [
    {
     "name": "stdout",
     "output_type": "stream",
     "text": [
      "ast.Module(body=[ast.ImportFrom(module='importlib', names=[ast.alias(name='import_module', asname='importlib_import_module')], level=0), ast.ImportFrom(module='inspect', names=[ast.alias(name='getfile', asname='inspect_getfile')], level=0), ast.ImportFrom(module='pathlib', names=[ast.alias(name='Path')], level=0), ast.ImportFrom(module='tomli', names=[ast.alias(name='load', asname='tomli_load')], level=0), ast.Import(names=[ast.alias(name='dataclasses')]), ast.Try(body=[ast.AnnAssign(target=ast.Name(id='identifierPackagePACKAGING', ctx=ast.Store()), annotation=ast.Name(id='str', ctx=ast.Load()), value=ast.Subscript(value=ast.Subscript(value=ast.Call(func=ast.Name(id='tomli_load', ctx=ast.Load()), args=[ast.Call(func=ast.Attribute(value=ast.Call(func=ast.Name(id='Path', ctx=ast.Load()), args=[ast.Constant(value='pyproject.toml')]), attr='open', ctx=ast.Load()), args=[ast.Constant(value='rb')])]), slice=ast.Constant(value='project'), ctx=ast.Load()), slice=ast.Constant(value='name'), ctx=ast.Load()), simple=1)], handlers=[ast.ExceptHandler(type=ast.Name(id='Exception', ctx=ast.Load()), body=[ast.Assign(targets=[ast.Name(id='identifierPackagePACKAGING', ctx=ast.Store())], value=ast.Constant(value='astToolkit'))])]), ast.FunctionDef(name='getPathPackageINSTALLING', args=ast.arguments(), body=[ast.AnnAssign(target=ast.Name(id='pathPackage', ctx=ast.Store()), annotation=ast.Name(id='Path', ctx=ast.Load()), value=ast.Call(func=ast.Name(id='Path', ctx=ast.Load()), args=[ast.Call(func=ast.Name(id='inspect_getfile', ctx=ast.Load()), args=[ast.Call(func=ast.Name(id='importlib_import_module', ctx=ast.Load()), args=[ast.Name(id='identifierPackagePACKAGING', ctx=ast.Load())])])]), simple=1), ast.If(test=ast.Call(func=ast.Attribute(value=ast.Name(id='pathPackage', ctx=ast.Load()), attr='is_file', ctx=ast.Load())), body=[ast.Assign(targets=[ast.Name(id='pathPackage', ctx=ast.Store())], value=ast.Attribute(value=ast.Name(id='pathPackage', ctx=ast.Load()), attr='parent', ctx=ast.Load()))]), ast.Return(value=ast.Name(id='pathPackage', ctx=ast.Load()))], returns=ast.Name(id='Path', ctx=ast.Load())), ast.ClassDef(name='PackageSettings', body=[ast.AnnAssign(target=ast.Name(id='fileExtension', ctx=ast.Store()), annotation=ast.Name(id='str', ctx=ast.Load()), value=ast.Call(func=ast.Attribute(value=ast.Name(id='dataclasses', ctx=ast.Load()), attr='field', ctx=ast.Load()), keywords=[ast.keyword(arg='default', value=ast.Constant(value='.py')), ast.keyword(arg='metadata', value=ast.Dict(keys=[ast.Constant(value='evaluateWhen')], values=[ast.Constant(value='installing')]))]), simple=1), ast.Expr(value=ast.Constant(value='Default file extension for generated code files.')), ast.AnnAssign(target=ast.Name(id='packageName', ctx=ast.Store()), annotation=ast.Name(id='str', ctx=ast.Load()), value=ast.Call(func=ast.Attribute(value=ast.Name(id='dataclasses', ctx=ast.Load()), attr='field', ctx=ast.Load()), keywords=[ast.keyword(arg='default', value=ast.Name(id='identifierPackagePACKAGING', ctx=ast.Load())), ast.keyword(arg='metadata', value=ast.Dict(keys=[ast.Constant(value='evaluateWhen')], values=[ast.Constant(value='packaging')]))]), simple=1), ast.Expr(value=ast.Constant(value='Name of this package, used for import paths and configuration.')), ast.AnnAssign(target=ast.Name(id='pathPackage', ctx=ast.Store()), annotation=ast.Name(id='Path', ctx=ast.Load()), value=ast.Call(func=ast.Attribute(value=ast.Name(id='dataclasses', ctx=ast.Load()), attr='field', ctx=ast.Load()), keywords=[ast.keyword(arg='default_factory', value=ast.Name(id='getPathPackageINSTALLING', ctx=ast.Load())), ast.keyword(arg='metadata', value=ast.Dict(keys=[ast.Constant(value='evaluateWhen')], values=[ast.Constant(value='installing')]))]), simple=1), ast.Expr(value=ast.Constant(value='Absolute path to the installed package directory.'))], decorator_list=[ast.Attribute(value=ast.Name(id='dataclasses', ctx=ast.Load()), attr='dataclass', ctx=ast.Load())]), ast.Assign(targets=[ast.Name(id='packageSettings', ctx=ast.Store())], value=ast.Call(func=ast.Name(id='PackageSettings', ctx=ast.Load())))])\n"
     ]
    }
   ],
   "source": [
    "from astToolkit import dump\n",
    "import ast\n",
    "import sys\n",
    "\n",
    "source='''\n",
    "from importlib import import_module as importlib_import_module\n",
    "from inspect import getfile as inspect_getfile\n",
    "from pathlib import Path\n",
    "from tomli import load as tomli_load\n",
    "import dataclasses\n",
    "\n",
    "try:\n",
    "\tidentifierPackagePACKAGING: str = tomli_load(Path(\"pyproject.toml\").open('rb'))[\"project\"][\"name\"]\n",
    "except Exception:\n",
    "\tidentifierPackagePACKAGING = \"astToolkit\"\n",
    "\n",
    "def getPathPackageINSTALLING() -> Path:\n",
    "\tpathPackage: Path = Path(inspect_getfile(importlib_import_module(identifierPackagePACKAGING)))\n",
    "\tif pathPackage.is_file():\n",
    "\t\tpathPackage = pathPackage.parent\n",
    "\treturn pathPackage\n",
    "\n",
    "@dataclasses.dataclass\n",
    "class PackageSettings:\n",
    "\n",
    "\tfileExtension: str = dataclasses.field(default='.py', metadata={'evaluateWhen': 'installing'})\n",
    "\t\"\"\"Default file extension for generated code files.\"\"\"\n",
    "\n",
    "\tpackageName: str = dataclasses.field(default = identifierPackagePACKAGING, metadata={'evaluateWhen': 'packaging'})\n",
    "\t\"\"\"Name of this package, used for import paths and configuration.\"\"\"\n",
    "\n",
    "\tpathPackage: Path = dataclasses.field(default_factory=getPathPackageINSTALLING, metadata={'evaluateWhen': 'installing'})\n",
    "\t\"\"\"Absolute path to the installed package directory.\"\"\"\n",
    "\n",
    "packageSettings = PackageSettings()\n",
    "'''\n",
    "\n",
    "print(dump(ast.parse(source, type_comments=True), indent=None, show_empty=False))"
   ]
  },
  {
   "cell_type": "markdown",
   "id": "1bffa2d3",
   "metadata": {},
   "source": [
    "# eval and unparse"
   ]
  },
  {
   "cell_type": "code",
   "execution_count": null,
   "id": "6cefb0c9",
   "metadata": {},
   "outputs": [],
   "source": [
    "# from astToolkit import Make\n",
    "# import ast\n",
    "# source='''\n",
    "# '''\n",
    "\n",
    "# print(ast.unparse(ast.Module([eval(source)])))"
   ]
  }
 ],
 "metadata": {
  "kernelspec": {
   "display_name": ".venv",
   "language": "python",
   "name": "python3"
  },
  "language_info": {
   "codemirror_mode": {
    "name": "ipython",
    "version": 3
   },
   "file_extension": ".py",
   "mimetype": "text/x-python",
   "name": "python",
   "nbconvert_exporter": "python",
   "pygments_lexer": "ipython3",
   "version": "3.13.3"
  }
 },
 "nbformat": 4,
 "nbformat_minor": 5
}
